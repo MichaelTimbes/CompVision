{
 "cells": [
  {
   "cell_type": "code",
   "execution_count": 1,
   "metadata": {
    "collapsed": true
   },
   "outputs": [],
   "source": [
    "# Practice with Edge Filters\n",
    "# Michael Timbes\n",
    "\n",
    "# Comparing Sobel and Prewit filters."
   ]
  },
  {
   "cell_type": "code",
   "execution_count": 2,
   "metadata": {
    "collapsed": true
   },
   "outputs": [],
   "source": [
    "from PIL import Image as img # Used to import photos\n",
    "from PIL import ImageFilter as imfil # Filters\n",
    "from matplotlib.pyplot import imshow # Show images\n",
    "import numpy as np # Math Ops"
   ]
  },
  {
   "cell_type": "code",
   "execution_count": 3,
   "metadata": {
    "collapsed": true
   },
   "outputs": [],
   "source": [
    "panda = img.open(\"panda1.jpg\",'r')\n",
    "\n",
    "# Example of the sharpen kernal to help amplify edges.\n",
    "panda = panda.filter(imfil.Kernel((3,3),[0, -1, 0, -1, 5, -1, 0, -1, 0]))\n",
    "panda.show()"
   ]
  },
  {
   "cell_type": "code",
   "execution_count": 4,
   "metadata": {
    "collapsed": false
   },
   "outputs": [],
   "source": [
    "# Example of Sorbel Filter for Edge Detection\n",
    "\n",
    "# Normally the scale factor should be 1/8 but .5-2 shows lines better, change scale for edge resolution.\n",
    "sobel_scale = 2\n",
    "\n",
    "sobel_kernel_X = panda.filter(imfil.Kernel((3,3),[-1, 0, 1, -2, 0, 2, -1, 0, 1],sobel_scale)) # X Direction\n",
    "sobel_kernel_Y = panda.filter(imfil.Kernel((3,3),[1, 2, 1, 0, 0, 0, -1, -2, -1],sobel_scale)) # Y Direction\n",
    "\n",
    "#sobel_kernel_X.show() # Uncomment to view X\n",
    "#sobel_kernel_Y.show() # Uncomment to view Y\n",
    "\n",
    "# New Image Both X and Y\n",
    "\n",
    "panda_sobel = img.blend(sobel_kernel_X,sobel_kernel_Y,.5)\n",
    "panda_sobel.show()"
   ]
  },
  {
   "cell_type": "code",
   "execution_count": 5,
   "metadata": {
    "collapsed": true
   },
   "outputs": [],
   "source": [
    "# Example of Prewitt Edge Detection Kernel\n",
    "\n",
    "# Adjust scale for edge resolution.\n",
    "prew_scale = 2\n",
    "\n",
    "prew_kernel_X = panda.filter(imfil.Kernel((3,3),[-1, 0, 1, -1, 0, 1, -1, 0, 1],prew_scale)) # X Direction\n",
    "prew_kernel_Y = panda.filter(imfil.Kernel((3,3),[1, 1, 1, 0, 0, 0, -1, -1, -1],prew_scale)) # Y Direction\n",
    "\n",
    "#prew_kernel_X.show() # Uncomment to view X\n",
    "#prew_kernel_Y.show() # Uncomment to view Y\n",
    "\n",
    "# New Image Both X and Y\n",
    "\n",
    "panda_prew = img.blend(prew_kernel_X,prew_kernel_Y,.5)\n",
    "panda_prew.show()"
   ]
  },
  {
   "cell_type": "code",
   "execution_count": 6,
   "metadata": {
    "collapsed": true
   },
   "outputs": [],
   "source": [
    "# Different Picture\n",
    "sign = img.open(\"stopsign.jpg\", 'r')"
   ]
  },
  {
   "cell_type": "code",
   "execution_count": 7,
   "metadata": {
    "collapsed": true
   },
   "outputs": [],
   "source": [
    "# Example 2 of Sobel\n",
    "\n",
    "sobel_scale_X = 2\n",
    "sobel_scale_Y = 2\n",
    "\n",
    "sobel_kernel_X2 = sign.filter(imfil.Kernel((3,3),[-1, 0, 1, -2, 0, 2, -1, 0, 1],sobel_scale_X)) # X Direction\n",
    "sobel_kernel_Y2 = sign.filter(imfil.Kernel((3,3),[1, 2, 1, 0, 0, 0, -1, -2, -1],sobel_scale_Y)) # Y Direction\n",
    "\n",
    "sign_sobel = img.blend(sobel_kernel_X2,sobel_kernel_Y2,.5)\n",
    "sign_sobel.show()"
   ]
  }
 ],
 "metadata": {
  "kernelspec": {
   "display_name": "Python 3",
   "language": "python",
   "name": "python3"
  },
  "language_info": {
   "codemirror_mode": {
    "name": "ipython",
    "version": 3
   },
   "file_extension": ".py",
   "mimetype": "text/x-python",
   "name": "python",
   "nbconvert_exporter": "python",
   "pygments_lexer": "ipython3",
   "version": "3.6.0"
  }
 },
 "nbformat": 4,
 "nbformat_minor": 2
}
