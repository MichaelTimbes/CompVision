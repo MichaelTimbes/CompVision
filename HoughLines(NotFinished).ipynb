{
 "cells": [
  {
   "cell_type": "code",
   "execution_count": 1,
   "metadata": {
    "collapsed": true,
    "deletable": true,
    "editable": true
   },
   "outputs": [],
   "source": [
    "# Example Application of Hough Line Transform\n",
    "# Michael Timbes"
   ]
  },
  {
   "cell_type": "markdown",
   "metadata": {},
   "source": [
    "# Hough Transform (Lines)\n",
    "> The Hough transform can be used after applying an edge filter to find lines and circles in an image. The idea behind this method is taking a set of points produced by the filter and treating them as if they were all lines in another space (Hough space). In the space of lines, the points of intersections represent a line in the original space(cartesian space). \n",
    "## How to Get Lines\n",
    "> These intersections are accounted for by votes which are stored in an accumulator. The accumulator has a certain structure to maintain most of the information about the point. <br>\n",
    "<b>Accumulator:</b><br>\n",
    "[ $\\rho$, $\\theta$ ] = <b>Vote</b> <br>\n",
    "> As the accumulator structure suggests, the Hough space is in terms of a radius length and position (given by theta). The more votes a certain radius and position has, the greater the likelyhood of a line being present. Once the votes have been accounted for, one may rebuild the lines to plot ontop of the image. The relationship between rho and the (X,Y) values are outlined below in the polar representation of the cartesian space.<br>\n",
    "$$\\rho = x\\cos (\\theta) + y\\sin(\\theta)$$ \n",
    "The votes are based on the specific (X,Y) points. So that when rho is found from above, the votes at that specific rho and theta are added up. <br>\n",
    "## Finding Lines from the Accumulator\n",
    "> So with the accumulator, the first value of importance are the votes at each rho and theta. If someone is looking for just one line, it may be sufficient to find the point of the highest votes and then use the theta and rho value to plot the line. <br>\n",
    "<b>Equation to Rebuild Lines</b> <br>\n",
    "$m = \\frac{-\\cos(\\theta)}{\\sin(\\theta)},b = \\frac{\\rho}{\\sin(\\theta)}$ <br>\n",
    "$y = mx + b$ <br>\n",
    "The idea is to plot the strongest line using the rho and theta associated with that value along all of the x axis."
   ]
  },
  {
   "cell_type": "code",
   "execution_count": 2,
   "metadata": {
    "collapsed": false,
    "deletable": true,
    "editable": true
   },
   "outputs": [],
   "source": [
    "from PIL import Image as img # Used to import photos\n",
    "from PIL import ImageFilter as imfil # Filters\n",
    "import matplotlib.pyplot as plt # Show images\n",
    "import numpy as np # Math Ops"
   ]
  },
  {
   "cell_type": "code",
   "execution_count": 3,
   "metadata": {
    "collapsed": true,
    "deletable": true,
    "editable": true
   },
   "outputs": [],
   "source": [
    "def find_refs(r, alpha):\n",
    "    return (r*np.sin(alpha)), (r*np.cos(alpha))"
   ]
  },
  {
   "cell_type": "code",
   "execution_count": null,
   "metadata": {
    "collapsed": true
   },
   "outputs": [],
   "source": [
    "def gen_line(rho, theta, x):\n",
    "    b = rho/(np.sin(theta))\n",
    "    m = (-np.cos(theta)/sin(theta))\n",
    "    y = m * x + b"
   ]
  },
  {
   "cell_type": "code",
   "execution_count": 4,
   "metadata": {
    "collapsed": true,
    "deletable": true,
    "editable": true
   },
   "outputs": [],
   "source": [
    "def hough_trans(im):\n",
    "    \"\"\"\n",
    "    INPUT:\n",
    "    ((bin) image 2D vector)\n",
    "    \n",
    "    OUPUT:\n",
    "    ((float64) theta): Angle vals in radians for precision\n",
    "    ((float64) rhosp): Radius of line segments\n",
    "    ((int) accu): Accumulator for tracking voting\n",
    "    \"\"\"\n",
    "    # Assign References\n",
    "    width, height = im.shape\n",
    "    #print(\"Width, Height\",width, height)\n",
    "    \n",
    "    # Max Line Segment Length\n",
    "    max_lin = np.ceil(np.sqrt(width * width + height * height))\n",
    "    max_lin = max_lin.astype(np.uint64)\n",
    "    \n",
    "    # Rho Space Vector\n",
    "    rhosp = np.linspace(-max_lin, max_lin, max_lin * 2.0)\n",
    "    \n",
    "    # Theta Space Vector in Radians\n",
    "    theta = np.deg2rad(np.arange(-90.0, 90.0, 1))\n",
    "    \n",
    "    # Build Trig Funcs\n",
    "    cos_arr = np.cos(theta)\n",
    "    cos_arr = cos_arr.astype(np.int64)\n",
    "    sin_arr = np.sin(theta)\n",
    "    sin_arr = sin_arr.astype(np.int64)\n",
    "    \n",
    "    steps = len(theta)\n",
    "    \n",
    "    # Build Accumulator\n",
    "    R = 2*max_lin\n",
    "    R = R.astype(np.uint64) \n",
    "    accu = np.zeros((R, steps))\n",
    "    \n",
    "    # Index Edge Points\n",
    "    [idx_y, idx_x] = np.nonzero(im)\n",
    "    #print(len(idx_y),len(idx_x))\n",
    "    # Voting Process\n",
    "    for i in range(len(idx_x)):\n",
    "        x = idx_x[i]\n",
    "        y = idx_y[i]\n",
    "        for t in range(steps):\n",
    "            rho = np.rint((x*cos_arr[t] + y*sin_arr[t]) + max_lin)\n",
    "            rho = rho.astype(np.uint64)\n",
    "            accu[rho, t] +=1\n",
    "    return accu,theta,rhosp\n",
    "        "
   ]
  },
  {
   "cell_type": "code",
   "execution_count": 5,
   "metadata": {
    "collapsed": false,
    "deletable": true,
    "editable": true
   },
   "outputs": [
    {
     "name": "stderr",
     "output_type": "stream",
     "text": [
      "/usr/local/lib/python3.6/site-packages/ipykernel/__main__.py:20: DeprecationWarning: object of type <class 'numpy.float64'> cannot be safely interpreted as an integer.\n"
     ]
    },
    {
     "name": "stdout",
     "output_type": "stream",
     "text": [
      "68775 68775\n"
     ]
    }
   ],
   "source": [
    "stp_sign = img.open(\"stopsign.jpg\", 'r')\n",
    "stp_sign = stp_sign.convert(\"L\")\n",
    "\n",
    "# Smoothing Filter- add if there is a lot of noise.\n",
    "#stp_sign = stp_sign.filter(imfil.GaussianBlur(2))\n",
    "\n",
    "# Interesting that running a negative scale and then a positive scale filter and blending the two results \n",
    "# creates a very clear image of the edges for this stop sign. \n",
    "\n",
    "# Run Negative Scale Edge Filter\n",
    "sobel_scale = .75\n",
    "sobel_kernel_nX = stp_sign.filter(imfil.Kernel((3,3),[-1, 0, 1, -2, 0, 2, -1, 0, 1],-sobel_scale)) # X Direction\n",
    "sobel_kernel_nY = stp_sign.filter(imfil.Kernel((3,3),[1, 2, 1, 0, 0, 0, -1, -2, -1],-sobel_scale)) # Y Direction\n",
    "\n",
    "# Run Positive Scale Edge Filter\n",
    "sobel_kernel_X = stp_sign.filter(imfil.Kernel((3,3),[-1, 0, 1, -2, 0, 2, -1, 0, 1],sobel_scale)) # X Direction\n",
    "sobel_kernel_Y = stp_sign.filter(imfil.Kernel((3,3),[1, 2, 1, 0, 0, 0, -1, -2, -1],sobel_scale)) # Y Direction\n",
    "\n",
    "# Negative Blending\n",
    "neg_sign = img.blend(sobel_kernel_nX,sobel_kernel_nY,.5)\n",
    "#neg_sign.show()\n",
    "\n",
    "# Positive Blending\n",
    "psv_sign = img.blend(sobel_kernel_X,sobel_kernel_Y,.5)\n",
    "#psv_sign.show()\n",
    "\n",
    "# Result of Negative and Positive\n",
    "new_sign = img.blend(neg_sign,psv_sign,.5)\n",
    "#new_sign.show()\n",
    "\n",
    "# Cast to Numpy Array\n",
    "stp_sign = np.array(new_sign)\n",
    "\n",
    "# Generate Lines\n",
    "ac, thet, rhos = hough_trans(stp_sign)"
   ]
  },
  {
   "cell_type": "code",
   "execution_count": 11,
   "metadata": {
    "collapsed": false,
    "deletable": true,
    "editable": true
   },
   "outputs": [
    {
     "name": "stdout",
     "output_type": "stream",
     "text": [
      "(786, 180)\n",
      "Number of Bins:  786\n",
      "Degrees:  180\n",
      "Max Indx:  70741\n",
      "-302.885350318 -89.0\n",
      "302.839219413 -5.28607823766\n"
     ]
    }
   ],
   "source": [
    "# Information on Structure\n",
    "print(ac.shape)\n",
    "print(\"Number of Bins: \",ac.shape[0])\n",
    "print(\"Degrees: \",ac.shape[1])\n",
    "\n",
    "# Finding a Max\n",
    "idx = np.argmax(ac)\n",
    "print(\"Max Indx: \", idx)\n",
    "rho = rhos[int(idx / ac.shape[0])]\n",
    "theta = thet[idx % ac.shape[1]]\n",
    "print(rho, np.rad2deg(theta))\n",
    "Y,X = find_refs(rho,theta)\n"
   ]
  }
 ],
 "metadata": {
  "kernelspec": {
   "display_name": "Python 3",
   "language": "python",
   "name": "python3"
  },
  "language_info": {
   "codemirror_mode": {
    "name": "ipython",
    "version": 3
   },
   "file_extension": ".py",
   "mimetype": "text/x-python",
   "name": "python",
   "nbconvert_exporter": "python",
   "pygments_lexer": "ipython3",
   "version": "3.6.0"
  }
 },
 "nbformat": 4,
 "nbformat_minor": 2
}
