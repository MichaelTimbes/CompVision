{
 "cells": [
  {
   "cell_type": "code",
   "execution_count": 1,
   "metadata": {
    "collapsed": true,
    "deletable": true,
    "editable": true
   },
   "outputs": [],
   "source": [
    "# Michael Timbes\n",
    "# Exploring noise and filtering methods as based in the Introduction to Computer Vision video Series on Udacity"
   ]
  },
  {
   "cell_type": "code",
   "execution_count": 2,
   "metadata": {
    "collapsed": true,
    "deletable": true,
    "editable": true
   },
   "outputs": [],
   "source": [
    "from PIL import Image as img # Used to import photos\n",
    "from PIL import ImageFilter as imfil # Filters\n",
    "from matplotlib.pyplot import imshow # Show images\n",
    "import numpy as np # Math Ops"
   ]
  },
  {
   "cell_type": "code",
   "execution_count": 3,
   "metadata": {
    "collapsed": false,
    "deletable": true,
    "editable": true
   },
   "outputs": [],
   "source": [
    "panda = img.open(\"panda1.jpg\",'r')\n",
    "panda.show()"
   ]
  },
  {
   "cell_type": "markdown",
   "metadata": {
    "collapsed": true,
    "deletable": true,
    "editable": true
   },
   "source": [
    "# Gaussian Blur\n",
    "* Example to show how to produce a blur from a Gaussian function.\n",
    "The Gaussian blur is made from the convolution of the function \n",
    "$$G(x,y) = \\frac{1}{2\\pi\\sigma^{2}}e^{-\\frac{x^{2}+y^{2}}{2\\sigma^{2}}} $$\n",
    "made on the image F(x,y).\n",
    "$$\\int_{0}^{Y} \\int_{0}^{X} F(x,y)*G(x,y)dxdy$$\n",
    "Where the X is the distance in the x direction from the origin and Y is the distance from the origin. The function is applied by  convolution in two dimensions since this can be reversed if needed(as opposed to correlation)."
   ]
  },
  {
   "cell_type": "code",
   "execution_count": 4,
   "metadata": {
    "collapsed": false,
    "deletable": true,
    "editable": true
   },
   "outputs": [],
   "source": [
    "panda_blur = panda.filter(imfil.GaussianBlur(3))\n",
    "panda_blur.show()"
   ]
  },
  {
   "cell_type": "markdown",
   "metadata": {
    "deletable": true,
    "editable": true
   },
   "source": [
    "# Using Kernels\n",
    "Manipulation via a kernel is very similar to the convolution method of blurring with the gaussian weight function. A window (in this case of 3x3) is moved across the image and the pixel values under the window are multiplied and averaged together to produce a new value at the center of the window. Depending on the kernel, it may have to be weighted in order to be normalized from -1 to 1."
   ]
  },
  {
   "cell_type": "code",
   "execution_count": 5,
   "metadata": {
    "collapsed": false,
    "deletable": true,
    "editable": true
   },
   "outputs": [],
   "source": [
    "# Example of the sharpen kernal\n",
    "#panda_kernel = panda.filter(imfil.Kernel((3,3),[0, -1, 0, -1, 5, -1, 0, -1, 0]))\n",
    "# Example of edge detection kernal\n",
    "panda_kernel = panda.filter(imfil.Kernel((3,3),[1, 0, -1, 0, 0, 0, -1, 0, 1],2))\n",
    "panda_kernel.show()"
   ]
  }
 ],
 "metadata": {
  "kernelspec": {
   "display_name": "Python 3",
   "language": "python",
   "name": "python3"
  },
  "language_info": {
   "codemirror_mode": {
    "name": "ipython",
    "version": 3
   },
   "file_extension": ".py",
   "mimetype": "text/x-python",
   "name": "python",
   "nbconvert_exporter": "python",
   "pygments_lexer": "ipython3",
   "version": "3.6.0"
  }
 },
 "nbformat": 4,
 "nbformat_minor": 2
}
